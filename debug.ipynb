{
 "cells": [
  {
   "cell_type": "code",
   "execution_count": null,
   "id": "767ae5ee",
   "metadata": {},
   "outputs": [
    {
     "ename": "WebDriverException",
     "evalue": "Message: Service /usr/local/bin/chromedriver unexpectedly exited. Status code was: 1\n",
     "output_type": "error",
     "traceback": [
      "\u001b[31m---------------------------------------------------------------------------\u001b[39m",
      "\u001b[31mWebDriverException\u001b[39m                        Traceback (most recent call last)",
      "\u001b[36mCell\u001b[39m\u001b[36m \u001b[39m\u001b[32mIn[3]\u001b[39m\u001b[32m, line 24\u001b[39m\n\u001b[32m     19\u001b[39m bot.stop_browser()\n\u001b[32m     22\u001b[39m bot.browser = Browser.FIREFOX\n\u001b[32m---> \u001b[39m\u001b[32m24\u001b[39m \u001b[43mbot\u001b[49m\u001b[43m.\u001b[49m\u001b[43mstart_browser\u001b[49m\u001b[43m(\u001b[49m\u001b[43m)\u001b[49m\n\u001b[32m     25\u001b[39m bot.sleep(\u001b[32m5000\u001b[39m)\n\u001b[32m     26\u001b[39m bot.stop_browser()\n",
      "\u001b[36mFile \u001b[39m\u001b[32m~/desenvolvimentos/bot_example/venv/lib/python3.11/site-packages/botcity/web/bot.py:306\u001b[39m, in \u001b[36mWebBot.start_browser\u001b[39m\u001b[34m(self)\u001b[39m\n\u001b[32m    304\u001b[39m driver_path = \u001b[38;5;28mself\u001b[39m.driver_path \u001b[38;5;129;01mor\u001b[39;00m check_driver()\n\u001b[32m    305\u001b[39m \u001b[38;5;28mself\u001b[39m.driver_path = driver_path\n\u001b[32m--> \u001b[39m\u001b[32m306\u001b[39m \u001b[38;5;28mself\u001b[39m._driver = \u001b[38;5;28;43mself\u001b[39;49m\u001b[43m.\u001b[49m\u001b[43m_instantiate_driver\u001b[49m\u001b[43m(\u001b[49m\u001b[43mdriver_class\u001b[49m\u001b[43m=\u001b[49m\u001b[43mdriver_class\u001b[49m\u001b[43m,\u001b[49m\u001b[43m \u001b[49m\u001b[43mfunc_def_options\u001b[49m\u001b[43m=\u001b[49m\u001b[43mfunc_def_options\u001b[49m\u001b[43m)\u001b[49m\n\u001b[32m    307\u001b[39m \u001b[38;5;28mself\u001b[39m._others_configurations()\n\u001b[32m    308\u001b[39m \u001b[38;5;28mself\u001b[39m.set_screen_resolution()\n",
      "\u001b[36mFile \u001b[39m\u001b[32m~/desenvolvimentos/bot_example/venv/lib/python3.11/site-packages/botcity/web/bot.py:331\u001b[39m, in \u001b[36mWebBot._instantiate_driver\u001b[39m\u001b[34m(self, driver_class, func_def_options)\u001b[39m\n\u001b[32m    329\u001b[39m         driver = driver_class(**\u001b[38;5;28mself\u001b[39m._get_parameters_to_driver(), version_main=correct_version)\n\u001b[32m    330\u001b[39m     \u001b[38;5;28;01melse\u001b[39;00m:\n\u001b[32m--> \u001b[39m\u001b[32m331\u001b[39m         \u001b[38;5;28;01mraise\u001b[39;00m error\n\u001b[32m    332\u001b[39m \u001b[38;5;28;01mreturn\u001b[39;00m driver\n",
      "\u001b[36mFile \u001b[39m\u001b[32m~/desenvolvimentos/bot_example/venv/lib/python3.11/site-packages/botcity/web/bot.py:318\u001b[39m, in \u001b[36mWebBot._instantiate_driver\u001b[39m\u001b[34m(self, driver_class, func_def_options)\u001b[39m\n\u001b[32m    313\u001b[39m \u001b[38;5;250m\u001b[39m\u001b[33;03m\"\"\"\u001b[39;00m\n\u001b[32m    314\u001b[39m \u001b[33;03mIt is necessary to create this function because we isolated the instantiation of the driver,\u001b[39;00m\n\u001b[32m    315\u001b[39m \u001b[33;03mgiving options to solve some bugs, mainly in undetected chrome.\u001b[39;00m\n\u001b[32m    316\u001b[39m \u001b[33;03m\"\"\"\u001b[39;00m\n\u001b[32m    317\u001b[39m \u001b[38;5;28;01mtry\u001b[39;00m:\n\u001b[32m--> \u001b[39m\u001b[32m318\u001b[39m     driver = \u001b[43mdriver_class\u001b[49m\u001b[43m(\u001b[49m\u001b[43m*\u001b[49m\u001b[43m*\u001b[49m\u001b[38;5;28;43mself\u001b[39;49m\u001b[43m.\u001b[49m\u001b[43m_get_parameters_to_driver\u001b[49m\u001b[43m(\u001b[49m\u001b[43m)\u001b[49m\u001b[43m)\u001b[49m\n\u001b[32m    319\u001b[39m \u001b[38;5;28;01mexcept\u001b[39;00m WebDriverException \u001b[38;5;28;01mas\u001b[39;00m error:\n\u001b[32m    320\u001b[39m     \u001b[38;5;66;03m# TODO: 'Undetected Chrome' fix error to upgrade version chrome.\u001b[39;00m\n\u001b[32m    321\u001b[39m     \u001b[38;5;28;01mif\u001b[39;00m \u001b[33m'\u001b[39m\u001b[33mThis version of ChromeDriver only supports Chrome version\u001b[39m\u001b[33m'\u001b[39m \u001b[38;5;129;01min\u001b[39;00m error.msg:\n",
      "\u001b[36mFile \u001b[39m\u001b[32m~/desenvolvimentos/bot_example/venv/lib/python3.11/site-packages/selenium/webdriver/firefox/webdriver.py:63\u001b[39m, in \u001b[36mWebDriver.__init__\u001b[39m\u001b[34m(self, options, service, keep_alive)\u001b[39m\n\u001b[32m     60\u001b[39m     options.browser_version = \u001b[38;5;28;01mNone\u001b[39;00m\n\u001b[32m     62\u001b[39m \u001b[38;5;28mself\u001b[39m.service.path = \u001b[38;5;28mself\u001b[39m.service.env_path() \u001b[38;5;129;01mor\u001b[39;00m finder.get_driver_path()\n\u001b[32m---> \u001b[39m\u001b[32m63\u001b[39m \u001b[38;5;28;43mself\u001b[39;49m\u001b[43m.\u001b[49m\u001b[43mservice\u001b[49m\u001b[43m.\u001b[49m\u001b[43mstart\u001b[49m\u001b[43m(\u001b[49m\u001b[43m)\u001b[49m\n\u001b[32m     65\u001b[39m executor = FirefoxRemoteConnection(\n\u001b[32m     66\u001b[39m     remote_server_addr=\u001b[38;5;28mself\u001b[39m.service.service_url,\n\u001b[32m     67\u001b[39m     keep_alive=keep_alive,\n\u001b[32m     68\u001b[39m     ignore_proxy=options._ignore_local_proxy,\n\u001b[32m     69\u001b[39m )\n\u001b[32m     71\u001b[39m \u001b[38;5;28;01mtry\u001b[39;00m:\n",
      "\u001b[36mFile \u001b[39m\u001b[32m~/desenvolvimentos/bot_example/venv/lib/python3.11/site-packages/selenium/webdriver/common/service.py:108\u001b[39m, in \u001b[36mService.start\u001b[39m\u001b[34m(self)\u001b[39m\n\u001b[32m    106\u001b[39m count = \u001b[32m0\u001b[39m\n\u001b[32m    107\u001b[39m \u001b[38;5;28;01mwhile\u001b[39;00m \u001b[38;5;28;01mTrue\u001b[39;00m:\n\u001b[32m--> \u001b[39m\u001b[32m108\u001b[39m     \u001b[38;5;28;43mself\u001b[39;49m\u001b[43m.\u001b[49m\u001b[43massert_process_still_running\u001b[49m\u001b[43m(\u001b[49m\u001b[43m)\u001b[49m\n\u001b[32m    109\u001b[39m     \u001b[38;5;28;01mif\u001b[39;00m \u001b[38;5;28mself\u001b[39m.is_connectable():\n\u001b[32m    110\u001b[39m         \u001b[38;5;28;01mbreak\u001b[39;00m\n",
      "\u001b[36mFile \u001b[39m\u001b[32m~/desenvolvimentos/bot_example/venv/lib/python3.11/site-packages/selenium/webdriver/common/service.py:121\u001b[39m, in \u001b[36mService.assert_process_still_running\u001b[39m\u001b[34m(self)\u001b[39m\n\u001b[32m    119\u001b[39m return_code = \u001b[38;5;28mself\u001b[39m.process.poll()\n\u001b[32m    120\u001b[39m \u001b[38;5;28;01mif\u001b[39;00m return_code:\n\u001b[32m--> \u001b[39m\u001b[32m121\u001b[39m     \u001b[38;5;28;01mraise\u001b[39;00m WebDriverException(\u001b[33mf\u001b[39m\u001b[33m\"\u001b[39m\u001b[33mService \u001b[39m\u001b[38;5;132;01m{\u001b[39;00m\u001b[38;5;28mself\u001b[39m._path\u001b[38;5;132;01m}\u001b[39;00m\u001b[33m unexpectedly exited. Status code was: \u001b[39m\u001b[38;5;132;01m{\u001b[39;00mreturn_code\u001b[38;5;132;01m}\u001b[39;00m\u001b[33m\"\u001b[39m)\n",
      "\u001b[31mWebDriverException\u001b[39m: Message: Service /usr/local/bin/chromedriver unexpectedly exited. Status code was: 1\n"
     ]
    }
   ],
   "source": [
    "os.environ['DISPLAY'] = ':10'\n",
    "import os\n",
    "from botcity.web import WebBot, Browser\n",
    "\n",
    "\n",
    "# Instancia o WebBot\n",
    "bot = WebBot()\n",
    "\n",
    "\n",
    "# Configure se deseja ou não executar no modo headless.\n",
    "bot.headless = False\n",
    "\n",
    "# Defina o caminho do WebDriver\n",
    "# bot.driver_path = \"<path to your WebDriver binary>\"\n",
    "bot.start_browser()\n",
    "bot.sleep(5000)\n",
    "\n",
    "# Concluir e limpar o navegador da Web.\n",
    "bot.stop_browser()\n",
    "\n",
    "\n",
    "bot.browser = Browser.FIREFOX\n",
    "\n",
    "bot.start_browser()\n",
    "bot.sleep(5000)\n",
    "bot.stop_browser()\n"
   ]
  },
  {
   "cell_type": "code",
   "execution_count": null,
   "id": "bbcefb4a",
   "metadata": {},
   "outputs": [],
   "source": [
    "os.environ['DISPLAY'] = ':10'\n",
    "import os\n",
    "from botcity.web import WebBot, Browser\n",
    "\n",
    "\n"
   ]
  }
 ],
 "metadata": {
  "kernelspec": {
   "display_name": "venv",
   "language": "python",
   "name": "python3"
  },
  "language_info": {
   "codemirror_mode": {
    "name": "ipython",
    "version": 3
   },
   "file_extension": ".py",
   "mimetype": "text/x-python",
   "name": "python",
   "nbconvert_exporter": "python",
   "pygments_lexer": "ipython3",
   "version": "3.11.0"
  }
 },
 "nbformat": 4,
 "nbformat_minor": 5
}
