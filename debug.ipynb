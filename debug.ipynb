{
 "cells": [
  {
   "cell_type": "code",
   "execution_count": 1,
   "id": "767ae5ee",
   "metadata": {},
   "outputs": [],
   "source": [
    "import os\n",
    "os.environ['DISPLAY'] = ':10'\n",
    "from botcity.web import WebBot, Browser\n",
    "\n",
    "\n",
    "# Instancia o WebBot\n",
    "bot = WebBot()\n",
    "\n",
    "\n",
    "# Configure se deseja ou não executar no modo headless.\n",
    "bot.headless = False\n",
    "\n",
    "# Defina o caminho do WebDriver\n",
    "# bot.driver_path = \"<path to your WebDriver binary>\"\n",
    "bot.start_browser()\n",
    "bot.sleep(5000)\n",
    "\n",
    "# Concluir e limpar o navegador da Web.\n",
    "bot.stop_browser()\n"
   ]
  },
  {
   "cell_type": "code",
   "execution_count": null,
   "id": "bbcefb4a",
   "metadata": {},
   "outputs": [],
   "source": [
    "\n",
    "\n"
   ]
  }
 ],
 "metadata": {
  "kernelspec": {
   "display_name": "venv",
   "language": "python",
   "name": "python3"
  },
  "language_info": {
   "codemirror_mode": {
    "name": "ipython",
    "version": 3
   },
   "file_extension": ".py",
   "mimetype": "text/x-python",
   "name": "python",
   "nbconvert_exporter": "python",
   "pygments_lexer": "ipython3",
   "version": "3.11.0"
  }
 },
 "nbformat": 4,
 "nbformat_minor": 5
}
